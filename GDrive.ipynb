{
  "nbformat": 4,
  "nbformat_minor": 0,
  "metadata": {
    "colab": {
      "provenance": [],
      "authorship_tag": "ABX9TyMI8JuvVe5NAFa5RSnUSSjY",
      "include_colab_link": true
    },
    "kernelspec": {
      "name": "python3",
      "display_name": "Python 3"
    },
    "language_info": {
      "name": "python"
    }
  },
  "cells": [
    {
      "cell_type": "markdown",
      "metadata": {
        "id": "view-in-github",
        "colab_type": "text"
      },
      "source": [
        "<a href=\"https://colab.research.google.com/github/mbrockdev/colab/blob/main/GDrive.ipynb\" target=\"_parent\"><img src=\"https://colab.research.google.com/assets/colab-badge.svg\" alt=\"Open In Colab\"/></a>"
      ]
    },
    {
      "cell_type": "code",
      "execution_count": 1,
      "metadata": {
        "colab": {
          "base_uri": "https://localhost:8080/"
        },
        "id": "jSzc_07iKtiq",
        "outputId": "1b30e984-cd9b-48a7-e38a-80c6dfa46a1e"
      },
      "outputs": [
        {
          "output_type": "stream",
          "name": "stdout",
          "text": [
            "Mounted at /content/drive\n"
          ]
        }
      ],
      "source": [
        "from google.colab import drive\n",
        "drive.mount('/content/drive')\n"
      ]
    },
    {
      "cell_type": "code",
      "source": [
        "import os\n",
        "root_dir = '/content/drive/My Drive/'\n",
        "files = os.listdir(root_dir)\n",
        "print(files)\n",
        "\n",
        "\n",
        "\n"
      ],
      "metadata": {
        "colab": {
          "base_uri": "https://localhost:8080/"
        },
        "id": "d8yq2GEBLDWg",
        "outputId": "891cb3c5-459e-41ee-9e5b-0ac4b452acf5"
      },
      "execution_count": 2,
      "outputs": [
        {
          "output_type": "stream",
          "name": "stdout",
          "text": [
            "['JulyBudget.gsheet', 'Matt Brocklehurst CV.gdoc', 'rclone.sh', '650 M Brocklehurst 14.11.24 P45.pdf', 'season_ticket.pdf', 'Money March 2025.ods', '481105506_561418606928930_1125444368535274654_n.jpg', 'borgrepo-lenovo', 'mattgdrive', 'borgrepo', 'awsbucket', 'lenovo', 'matt-awsbucket', 'Money March 2025.gsheet', 'borgrepo-restore', 'bb.tar', 'Colab Notebooks']\n"
          ]
        }
      ]
    }
  ]
}